{
 "cells": [
  {
   "cell_type": "code",
   "execution_count": 4,
   "id": "823f2899",
   "metadata": {},
   "outputs": [],
   "source": [
    "import os\n",
    "import numpy as np\n",
    "import pandas as pd\n",
    "\n",
    "from collections import Counter\n",
    "\n",
    "from sklearn.model_selection import train_test_split"
   ]
  },
  {
   "cell_type": "markdown",
   "id": "e7c2c6c7",
   "metadata": {
    "heading_collapsed": true
   },
   "source": [
    "### Loading raw data"
   ]
  },
  {
   "cell_type": "code",
   "execution_count": 3,
   "id": "7f8174b1",
   "metadata": {
    "hidden": true
   },
   "outputs": [
    {
     "name": "stdout",
     "output_type": "stream",
     "text": [
      "(2901,)\n"
     ]
    }
   ],
   "source": [
    "labels = np.load('data/raw/labels_ipf_logfc.npy')\n",
    "print(labels.shape)"
   ]
  },
  {
   "cell_type": "code",
   "execution_count": 5,
   "id": "dbf94766",
   "metadata": {
    "hidden": true
   },
   "outputs": [
    {
     "name": "stdout",
     "output_type": "stream",
     "text": [
      "(2901, 768)\n"
     ]
    }
   ],
   "source": [
    "gene_biobert_embs = np.load('data/raw/gene_biobert_embs.npy')\n",
    "print(gene_biobert_embs.shape)"
   ]
  },
  {
   "cell_type": "code",
   "execution_count": 6,
   "id": "49c87d99",
   "metadata": {
    "hidden": true
   },
   "outputs": [
    {
     "name": "stdout",
     "output_type": "stream",
     "text": [
      "(2901, 160)\n"
     ]
    }
   ],
   "source": [
    "gene_exprs = np.load('data/raw/gene_exprs.npy')\n",
    "print(gene_exprs.shape)"
   ]
  },
  {
   "cell_type": "code",
   "execution_count": 7,
   "id": "aabd1283",
   "metadata": {
    "hidden": true
   },
   "outputs": [
    {
     "name": "stdout",
     "output_type": "stream",
     "text": [
      "(2901, 70)\n"
     ]
    }
   ],
   "source": [
    "gene_feats = np.load('data/raw/gene_feats.npy')\n",
    "print(gene_feats.shape)"
   ]
  },
  {
   "cell_type": "code",
   "execution_count": 8,
   "id": "98292d1e",
   "metadata": {
    "hidden": true
   },
   "outputs": [
    {
     "name": "stdout",
     "output_type": "stream",
     "text": [
      "(2901,)\n"
     ]
    }
   ],
   "source": [
    "gene_symbols = np.load('data/raw/gene_nodes.npy')\n",
    "print(gene_symbols.shape)"
   ]
  },
  {
   "cell_type": "code",
   "execution_count": 9,
   "id": "abf9f311",
   "metadata": {
    "hidden": true
   },
   "outputs": [
    {
     "name": "stdout",
     "output_type": "stream",
     "text": [
      "(2901, 1000)\n"
     ]
    }
   ],
   "source": [
    "# combined info \n",
    "gene_symbols = np.expand_dims(gene_symbols, axis=1)\n",
    "labels = np.expand_dims(labels, axis=1)\n",
    "gene_info = np.concatenate([gene_symbols, gene_feats, gene_exprs, gene_biobert_embs, labels], axis=1)\n",
    "print(gene_info.shape)"
   ]
  },
  {
   "cell_type": "markdown",
   "id": "719379d2",
   "metadata": {},
   "source": [
    "### train-test splits "
   ]
  },
  {
   "cell_type": "code",
   "execution_count": 10,
   "id": "159aca6c",
   "metadata": {
    "code_folding": []
   },
   "outputs": [
    {
     "name": "stdout",
     "output_type": "stream",
     "text": [
      "Train: 1740, Val: 580, Test: 581\n",
      "0 0 0\n"
     ]
    }
   ],
   "source": [
    "# generating train-test splits \n",
    "train_idx, val_idx = train_test_split(range(gene_symbols.shape[0]), test_size=0.4)\n",
    "val_idx, test_idx = train_test_split(val_idx, test_size=0.5)\n",
    "print(f'Train: {len(train_idx)}, Val: {len(val_idx)}, Test: {len(test_idx)}')\n",
    "print(np.sum(np.in1d(train_idx, val_idx)), \n",
    "      np.sum(np.in1d(train_idx, test_idx)), \n",
    "      np.sum(np.in1d(test_idx, val_idx)))"
   ]
  },
  {
   "cell_type": "code",
   "execution_count": 15,
   "id": "39c3653c",
   "metadata": {
    "code_folding": []
   },
   "outputs": [],
   "source": [
    "# saving full data \n",
    "outdir = 'data/processed/'\n",
    "train_data = gene_info[train_idx]\n",
    "train_data = np.concatenate([np.expand_dims(np.array(train_idx), axis=1), train_data], axis=1) # appending index\n",
    "np.save(os.path.join(outdir, 'train.npy'), train_data, allow_pickle=True)\n",
    "\n",
    "val_data = gene_info[val_idx]\n",
    "val_data = np.concatenate([np.expand_dims(np.array(val_idx), axis=1), val_data], axis=1) # appending index\n",
    "np.save(os.path.join(outdir, 'val.npy'), val_data, allow_pickle=True)\n",
    "\n",
    "test_data = gene_info[test_idx]\n",
    "test_data = np.concatenate([np.expand_dims(np.array(test_idx), axis=1), test_data], axis=1) # appending index\n",
    "np.save(os.path.join(outdir, 'test.npy'), test_data, allow_pickle=True)"
   ]
  },
  {
   "cell_type": "code",
   "execution_count": 12,
   "id": "01e5de71",
   "metadata": {},
   "outputs": [
    {
     "name": "stdout",
     "output_type": "stream",
     "text": [
      "Train (sample): 348, Val (sample): 116Test (sample): 117\n"
     ]
    }
   ],
   "source": [
    "# generating sample data \n",
    "_, train_sample_idx = train_test_split(train_idx, test_size=0.20)\n",
    "_, val_sample_idx = train_test_split(val_idx, test_size=0.20)\n",
    "_, test_sample_idx = train_test_split(test_idx, test_size=0.20)\n",
    "print(f'Train (sample): {len(train_sample_idx)}, Val (sample): {len(val_sample_idx)}'\n",
    "      f'Test (sample): {len(test_sample_idx)}')"
   ]
  },
  {
   "cell_type": "code",
   "execution_count": 22,
   "id": "bdf77c15",
   "metadata": {},
   "outputs": [],
   "source": [
    "# saving sample data \n",
    "outdir = 'data/processed/'\n",
    "train_data = gene_info[train_sample_idx]\n",
    "train_data = np.concatenate([np.expand_dims(np.array(train_sample_idx), axis=1), train_data], axis=1)\n",
    "np.save(os.path.join(outdir, 'train_sample.npy'), train_data, allow_pickle=True)\n",
    "\n",
    "val_data = gene_info[val_sample_idx]\n",
    "val_data = np.concatenate([np.expand_dims(np.array(val_sample_idx), axis=1), val_data], axis=1) # appending index\n",
    "np.save(os.path.join(outdir, 'val_sample.npy'), val_data, allow_pickle=True)\n",
    "\n",
    "test_data = gene_info[test_sample_idx]\n",
    "test_data = np.concatenate([np.expand_dims(np.array(test_sample_idx), axis=1), test_data], axis=1) # appending index\n",
    "np.save(os.path.join(outdir, 'test_sample.npy'), test_data, allow_pickle=True)"
   ]
  },
  {
   "cell_type": "code",
   "execution_count": null,
   "id": "7539d3ee",
   "metadata": {},
   "outputs": [],
   "source": []
  }
 ],
 "metadata": {
  "kernelspec": {
   "display_name": "Python 3 (ipykernel)",
   "language": "python",
   "name": "python3"
  },
  "language_info": {
   "codemirror_mode": {
    "name": "ipython",
    "version": 3
   },
   "file_extension": ".py",
   "mimetype": "text/x-python",
   "name": "python",
   "nbconvert_exporter": "python",
   "pygments_lexer": "ipython3",
   "version": "3.8.13"
  }
 },
 "nbformat": 4,
 "nbformat_minor": 5
}
